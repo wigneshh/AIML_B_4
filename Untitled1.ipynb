{
  "nbformat": 4,
  "nbformat_minor": 0,
  "metadata": {
    "colab": {
      "provenance": [],
      "authorship_tag": "ABX9TyPTzzsIaRv5wYDpmrrPJ1ND",
      "include_colab_link": true
    },
    "kernelspec": {
      "name": "python3",
      "display_name": "Python 3"
    },
    "language_info": {
      "name": "python"
    }
  },
  "cells": [
    {
      "cell_type": "markdown",
      "metadata": {
        "id": "view-in-github",
        "colab_type": "text"
      },
      "source": [
        "<a href=\"https://colab.research.google.com/github/wigneshh/AIML_B_4/blob/main/Untitled1.ipynb\" target=\"_parent\"><img src=\"https://colab.research.google.com/assets/colab-badge.svg\" alt=\"Open In Colab\"/></a>"
      ]
    },
    {
      "cell_type": "code",
      "execution_count": null,
      "metadata": {
        "id": "UMH5aM8LIuS5"
      },
      "outputs": [],
      "source": [
        "# Import NumPy library\n",
        "import numpy as np\n",
        "\n",
        "# Step 1: Create Lists and Arrays\n",
        "list1 = [1, 2, 3, 4, 5]\n",
        "list2 = [6, 7, 8, 9, 10]\n",
        "\n",
        "array1 = np.array(list1)\n",
        "array2 = np.array(list2)\n",
        "\n",
        "# Step 2: Identify their type using type()\n",
        "print(\"Type of list1:\", type(list1))\n",
        "print(\"Type of array1:\", type(array1))\n",
        "\n",
        "# Step 3: Perform mathematical operations\n",
        "# Multiplication\n",
        "result_multiply = array1 * array2\n",
        "print(\"Multiplication:\", result_multiply)\n",
        "\n",
        "# Division\n",
        "result_divide = array2 / array1\n",
        "print(\"Division:\", result_divide)\n",
        "\n",
        "# Power of\n",
        "result_power = array1 ** 2\n",
        "print(\"Power of 2:\", result_power)\n",
        "\n",
        "# Step 4: Combine text with NumPy function\n",
        "text_output = f\"Addition of Two:\\narray1 + array2\\nResult: {array1 + array2}\"\n",
        "print(text_output)\n",
        "\n",
        "# Step 5: Implement NumPy functions\n",
        "result_sin = np.sin(array1)\n",
        "result_log = np.log(array1)\n",
        "result_log2 = np.log2(array1)\n",
        "result_exp = np.exp(array1)\n",
        "\n",
        "print(\"Sin:\", result_sin)\n",
        "print(\"Log:\", result_log)\n",
        "print(\"Log2:\", result_log2)\n",
        "print(\"Exponential:\", result_exp)\n",
        "\n",
        "\n"
      ]
    }
  ]
}